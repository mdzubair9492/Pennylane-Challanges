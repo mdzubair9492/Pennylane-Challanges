{
 "cells": [
  {
   "cell_type": "code",
   "execution_count": 2,
   "metadata": {},
   "outputs": [],
   "source": [
    "import pennylane as qml\n",
    "from pennylane import numpy as np\n",
    "from pennylane import qchem"
   ]
  },
  {
   "cell_type": "markdown",
   "metadata": {},
   "source": [
    "<a href=\"https://www.youtube.com/watch?v=_ediOdFUr10\"> Intro to Qchem pennylane </a>\n",
    "\n",
    "<a href=\"https://www.youtube.com/watch?v=TiQ7T1h8VAQ\"> Optimizing a quantum circuit pennylane </a>"
   ]
  },
  {
   "cell_type": "markdown",
   "metadata": {},
   "source": [
    "# Step 1: Find Molecular Hamiltonian"
   ]
  },
  {
   "cell_type": "code",
   "execution_count": 3,
   "metadata": {},
   "outputs": [
    {
     "name": "stdout",
     "output_type": "stream",
     "text": [
      "6\n"
     ]
    }
   ],
   "source": [
    "symbols = [\"H\",\"H\",\"H\"]\n",
    "coordinates = np.array([[0.0102,0.0442,0.0],\n",
    "                        [0.9867,1.6303,0.0],[1.8720,-0.0085,0.0]]) # nuclei location in x,y,z in H3 atom\n",
    "hamiltonian,qubits = qchem.molecular_hamiltonian(symbols,coordinates,charge=1) # cz in vqe it is better to work with 2e than 3e. So takin H3+\n",
    "print(qubits) # see, we need 6 electrons to find h3 ground state"
   ]
  },
  {
   "cell_type": "code",
   "execution_count": 5,
   "metadata": {},
   "outputs": [
    {
     "name": "stdout",
     "output_type": "stream",
     "text": [
      "[1 1 0 0 0 0]\n"
     ]
    }
   ],
   "source": [
    "# now we need to define approx ground state known as Hartree Fock State\n",
    "hf = qchem.hf_state(electrons=2,orbitals=6) # orbitals same as num of qubits needed\n",
    "print(hf)"
   ]
  },
  {
   "cell_type": "code",
   "execution_count": 7,
   "metadata": {},
   "outputs": [
    {
     "data": {
      "text/plain": [
       "tensor(-1.24655016, requires_grad=True)"
      ]
     },
     "execution_count": 7,
     "metadata": {},
     "output_type": "execute_result"
    }
   ],
   "source": [
    "num_wires = qubits\n",
    "dev=qml.device('default.qubit',wires=num_wires)\n",
    "\n",
    "@qml.qnode(dev)\n",
    "def exp_energy(state):\n",
    "    qml.BasisState(np.array(state),wires=range(num_wires))\n",
    "    return qml.expval(hamiltonian)\n",
    "exp_energy(hf)"
   ]
  },
  {
   "cell_type": "markdown",
   "metadata": {},
   "source": [
    "# Step 2: Prepare Trial Ground State"
   ]
  },
  {
   "cell_type": "code",
   "execution_count": 8,
   "metadata": {},
   "outputs": [],
   "source": [
    "def ansatz(params):\n",
    "    qml.BasisState(hf,wires=range(num_wires))\n",
    "    qml.DoubleExcitation(params[0],wires=[0,1,2,3])\n",
    "    qml.DoubleExcitation(params[1],wires=[0,1,4,5])\n",
    "    "
   ]
  },
  {
   "cell_type": "markdown",
   "metadata": {},
   "source": [
    "# Step 3: Minimize <H> ( expectation value of hamiltonian)"
   ]
  },
  {
   "cell_type": "markdown",
   "metadata": {},
   "source": [
    "<b><u>Ritz Variational Principle:</u></b> If i find the state that minimizes the expectation value of hamiltonian then the state is ground state"
   ]
  },
  {
   "cell_type": "code",
   "execution_count": 9,
   "metadata": {},
   "outputs": [
    {
     "data": {
      "text/plain": [
       "tensor(-1.26796721, requires_grad=True)"
      ]
     },
     "execution_count": 9,
     "metadata": {},
     "output_type": "execute_result"
    }
   ],
   "source": [
    "@qml.qnode(dev)\n",
    "def cost_function(params):\n",
    "    ansatz(params)\n",
    "    return qml.expval(hamiltonian)\n",
    "cost_function([0.1,0.1]) # the output will be lower than hf expval"
   ]
  },
  {
   "cell_type": "code",
   "execution_count": 11,
   "metadata": {},
   "outputs": [
    {
     "name": "stdout",
     "output_type": "stream",
     "text": [
      "Step=0 , Energy = -1.26070025 Ha\n",
      "Step=2 , Energy = -1.27115671 Ha\n",
      "Step=4 , Energy = -1.27365804 Ha\n",
      "Step=6 , Energy = -1.27425241 Ha\n",
      "Step=8 , Energy = -1.27439362 Ha\n",
      "Step=10 , Energy = -1.27442718 Ha\n",
      "Step=12 , Energy = -1.27443517 Ha\n",
      "Step=14 , Energy = -1.27443707 Ha\n",
      "Step=16 , Energy = -1.27443752 Ha\n",
      "Step=18 , Energy = -1.27443763 Ha\n"
     ]
    }
   ],
   "source": [
    "opt = qml.GradientDescentOptimizer(stepsize=0.4)\n",
    "theta = np.array([0.0,0.0],requires_grad=True) # require_grad is used to specify if the tensor should track all opr on it, which allows \n",
    "# for the computational gradients\n",
    "energy=[cost_function(theta)]\n",
    "angle=[theta]\n",
    "max_iterations=20\n",
    "for n in range(max_iterations):\n",
    "    theta,prev_energy =opt.step_and_cost(cost_function,theta)\n",
    "    energy.append(cost_function(theta))\n",
    "    angle.append(theta)\n",
    "    if n%2==0:\n",
    "        print(f'Step={n} , Energy = {energy[-1]:.8f} Ha')\n",
    "\n"
   ]
  },
  {
   "cell_type": "code",
   "execution_count": 12,
   "metadata": {},
   "outputs": [
    {
     "name": "stdout",
     "output_type": "stream",
     "text": [
      "\n",
      "Final ground energy: -1.27443764 Ha\n"
     ]
    }
   ],
   "source": [
    "print(\"\\n\" f\"Final ground energy: {energy[-1]:.8f} Ha\")\n"
   ]
  },
  {
   "cell_type": "code",
   "execution_count": 13,
   "metadata": {},
   "outputs": [
    {
     "data": {
      "text/plain": [
       "tensor([ 0.        +0.j,  0.        +0.j,  0.        +0.j,\n",
       "        -0.09585862+0.j,  0.        +0.j,  0.        +0.j,\n",
       "         0.        +0.j,  0.        +0.j,  0.        +0.j,\n",
       "         0.        +0.j,  0.        +0.j,  0.        +0.j,\n",
       "        -0.09586987+0.j,  0.        +0.j,  0.        +0.j,\n",
       "         0.        +0.j,  0.        +0.j,  0.        +0.j,\n",
       "         0.        +0.j,  0.        +0.j,  0.        +0.j,\n",
       "         0.        +0.j,  0.        +0.j,  0.        +0.j,\n",
       "         0.        +0.j,  0.        +0.j,  0.        +0.j,\n",
       "         0.        +0.j,  0.        +0.j,  0.        +0.j,\n",
       "         0.        +0.j,  0.        +0.j,  0.        +0.j,\n",
       "         0.        +0.j,  0.        +0.j,  0.        +0.j,\n",
       "         0.        +0.j,  0.        +0.j,  0.        +0.j,\n",
       "         0.        +0.j,  0.        +0.j,  0.        +0.j,\n",
       "         0.        +0.j,  0.        +0.j,  0.        +0.j,\n",
       "         0.        +0.j,  0.        +0.j,  0.        +0.j,\n",
       "         0.99076743+0.j,  0.        +0.j,  0.        +0.j,\n",
       "         0.        +0.j,  0.        +0.j,  0.        +0.j,\n",
       "         0.        +0.j,  0.        +0.j,  0.        +0.j,\n",
       "         0.        +0.j,  0.        +0.j,  0.        +0.j,\n",
       "         0.        +0.j,  0.        +0.j,  0.        +0.j,\n",
       "         0.        +0.j], requires_grad=True)"
      ]
     },
     "execution_count": 13,
     "metadata": {},
     "output_type": "execute_result"
    }
   ],
   "source": [
    "@qml.qnode(dev)\n",
    "def ground_state(params):\n",
    "    ansatz(params)\n",
    "    return qml.state()\n",
    "ground_state(theta)"
   ]
  },
  {
   "cell_type": "code",
   "execution_count": null,
   "metadata": {},
   "outputs": [],
   "source": []
  }
 ],
 "metadata": {
  "kernelspec": {
   "display_name": "Python 3",
   "language": "python",
   "name": "python3"
  },
  "language_info": {
   "codemirror_mode": {
    "name": "ipython",
    "version": 3
   },
   "file_extension": ".py",
   "mimetype": "text/x-python",
   "name": "python",
   "nbconvert_exporter": "python",
   "pygments_lexer": "ipython3",
   "version": "3.11.9"
  }
 },
 "nbformat": 4,
 "nbformat_minor": 2
}
