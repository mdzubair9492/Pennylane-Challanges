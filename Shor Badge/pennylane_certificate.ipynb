{
 "cells": [
  {
   "cell_type": "code",
   "execution_count": 1,
   "metadata": {},
   "outputs": [],
   "source": [
    "import pennylane as qml\n",
    "import pennylane.numpy as np"
   ]
  },
  {
   "cell_type": "code",
   "execution_count": 376,
   "metadata": {},
   "outputs": [],
   "source": [
    "def W(params):\n",
    "    \n",
    "    \"\"\"\n",
    "    Subcircuit that implements the trainable block W\n",
    "    \n",
    "    Args:\n",
    "        params (np.array): A matrix containing the parameters for the trainable block W. The length of\n",
    "        params is equal to the depth of the circuit. The length of each row in params is the number \n",
    "        of qubits used. See the challenge statement for a detailed explanation\n",
    "    Returns:\n",
    "        Since this function is a subcircuit, you must not return anything.\n",
    "    \n",
    "    \"\"\"\n",
    "    num_layers,num_wires=params.shape[0],params.shape[1]\n",
    "    for i in range(num_layers):\n",
    "        for j in range(num_wires):\n",
    "            qml.RY(params[i,j], wires=j)\n",
    "        # Apply CZ gate between each adjacent pair of wires\n",
    "        for wire in range(num_wires-1 ):\n",
    "            qml.CNOT(wires=[wire, wire + 1])\n",
    "        qml.CNOT(wires=[num_wires-1,0])\n",
    "        "
   ]
  },
  {
   "cell_type": "code",
   "execution_count": 349,
   "metadata": {},
   "outputs": [],
   "source": [
    "def S(g, x, num_wires):\n",
    "    \"\"\"\n",
    "    Subcircuit that implements the encoding block S\n",
    "    \n",
    "    Args:\n",
    "        g (pennylane.Operator): A PennyLane operator representing the generator for the encoding\n",
    "        gates. It must be Hermitian in order to generate a unitary. Call it as g(wires) to specify\n",
    "        the wires on which it acts.\n",
    "        x (complex): The scalar coefficient of the operator g.\n",
    "        num_wires (int): The number of wires over which the encoding gate is broadcast.\n",
    "        \n",
    "    Returns:\n",
    "        Since this function is a subcircuit, you must not return anything.\n",
    "    \"\"\"\n",
    "\n",
    "    for wire in range(num_wires):\n",
    "        qml.evolve(g(wire),coeff=-x)"
   ]
  },
  {
   "cell_type": "code",
   "execution_count": 350,
   "metadata": {},
   "outputs": [],
   "source": [
    "num_wires=4\n",
    "dev = qml.device(\"default.qubit\", wires=num_wires)"
   ]
  },
  {
   "cell_type": "code",
   "execution_count": 377,
   "metadata": {},
   "outputs": [],
   "source": [
    "@qml.qnode(dev)\n",
    "def quantum_model(param_set, g, x):\n",
    "    \"\"\"\n",
    "    This QNode implements the quantum model with alternating trainable and encoding blocks\n",
    "    \n",
    "    Args:\n",
    "        param_set (np.array): A numpy array whose elements are the parameter matrices for each of the trainable\n",
    "        blocks. Therefore, the length of this list is equal to the number of trainable blocks, which is greater\n",
    "        than, or equal to 2.\n",
    "        g (pennylane.Operator): A PennyLane operator representing the generator for the encoding\n",
    "        gates. It must be Hermitian in order to generate a unitary.\n",
    "        x: The scalar coefficient of the operator g.\n",
    "    Returns:\n",
    "        (np.tensor(float)): A tensor of dimensions (2,) representing the measurement probabilities in the computational \n",
    "        basis on the first wire.\n",
    "    \"\"\"\n",
    "   \n",
    "\n",
    "    for i in range(len(param_set)):\n",
    "        mat = np.array(param_set[i])\n",
    "        W(mat)\n",
    "        if i == len(param_set)-1:\n",
    "            break\n",
    "        S(g,x,num_wires)  \n",
    "    return qml.probs(wires=0)\n"
   ]
  },
  {
   "cell_type": "code",
   "execution_count": 379,
   "metadata": {},
   "outputs": [
    {
     "name": "stdout",
     "output_type": "stream",
     "text": [
      "[0.68594115 0.31405885]\n"
     ]
    },
    {
     "name": "stderr",
     "output_type": "stream",
     "text": [
      "C:\\Users\\LENOVO\\AppData\\Local\\Packages\\PythonSoftwareFoundation.Python.3.11_qbz5n2kfra8p0\\LocalCache\\local-packages\\Python311\\site-packages\\pennylane\\math\\utils.py:227: UserWarning: Contains tensors of types {'abc', 'autograd'}; dispatch will prioritize TensorFlow, PyTorch, and  Jax over Autograd. Consider replacing Autograd with vanilla NumPy.\n",
      "  warnings.warn(\n"
     ]
    }
   ],
   "source": [
    "g = qml.PauliY\n",
    "x = 0.5236\n",
    "param_set =np.array([[[0.62832, 0.3927, 1.0472, 0.7854],\n",
    "                    [0.7854, 0.31416, 0.62832, 0.5236]],\n",
    "                    [[0.31416, 0.7854, 0.7854, 0.3927],\n",
    "                    [0.31416, 0.3927, 0.31416, 0.3927]]])\n",
    "output = quantum_model(param_set, g, x)\n",
    "print(output)\n"
   ]
  },
  {
   "cell_type": "code",
   "execution_count": 374,
   "metadata": {},
   "outputs": [
    {
     "name": "stdout",
     "output_type": "stream",
     "text": [
      "0: ──RX(1.05)─╭●───────╭X──RX(1.05)─╭●───────╭X──Exp(0.79j X)──RX(1.05)─╭●───────╭X──RX(0.79)─╭●───\n",
      "1: ──RX(0.79)─╰X─╭●────│───RX(0.79)─╰X─╭●────│───Exp(0.79j X)──RX(0.79)─╰X─╭●────│───RX(0.79)─╰X─╭●\n",
      "2: ──RX(3.14)────╰X─╭●─│───RX(3.14)────╰X─╭●─│───Exp(0.79j X)──RX(1.57)────╰X─╭●─│───RX(1.57)────╰X\n",
      "3: ──RX(0.39)───────╰X─╰●──RX(0.52)───────╰X─╰●──Exp(0.79j X)──RX(0.39)───────╰X─╰●──RX(0.79)──────\n",
      "\n",
      "─────╭X─┤  Probs\n",
      "─────│──┤       \n",
      "──╭●─│──┤       \n",
      "──╰X─╰●─┤       \n"
     ]
    }
   ],
   "source": [
    "drawer= qml.draw(quantum_model)(param_set,g,x)\n",
    "print(drawer)"
   ]
  }
 ],
 "metadata": {
  "kernelspec": {
   "display_name": "Python 3",
   "language": "python",
   "name": "python3"
  },
  "language_info": {
   "codemirror_mode": {
    "name": "ipython",
    "version": 3
   },
   "file_extension": ".py",
   "mimetype": "text/x-python",
   "name": "python",
   "nbconvert_exporter": "python",
   "pygments_lexer": "ipython3",
   "version": "3.11.9"
  }
 },
 "nbformat": 4,
 "nbformat_minor": 2
}
