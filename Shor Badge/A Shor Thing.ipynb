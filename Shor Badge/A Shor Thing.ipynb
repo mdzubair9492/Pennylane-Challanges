{
 "cells": [
  {
   "cell_type": "code",
   "execution_count": 1,
   "metadata": {},
   "outputs": [],
   "source": [
    "import pennylane as qml\n",
    "import pennylane.numpy as np"
   ]
  },
  {
   "cell_type": "code",
   "execution_count": 2,
   "metadata": {},
   "outputs": [],
   "source": [
    "n_qubits = 9\n",
    "dev = qml.device(\"default.qubit\", wires=n_qubits)\n",
    "error_dict = {0: 'PauliX', 1: 'PauliY', 2: 'PauliZ'}\n",
    "\n",
    "def error(error_key, qubit):\n",
    "    \"\"\"Defines the error that is induced in the circuit.\n",
    "\n",
    "    Args:\n",
    "        error_key (int): An integer associated to the type of error (Pauli X, Y, or Z)\n",
    "        qubit (int): The qubit that the error occurs on.\n",
    "    \"\"\"\n",
    "    getattr(qml, error_dict[error_key])(qubit)\n",
    "\n",
    "@qml.qnode(dev)\n",
    "def shor(state, error_key, qubit):\n",
    "    \"\"\"A circuit defining Shor's code for error correction.\n",
    "\n",
    "    Args:\n",
    "        state (list(float)): The quantum state of the first qubit in the circuit.\n",
    "        error_key (int): An integer associated to the type of error (Pauli X, Y, or Z)\n",
    "        qubit (int): The qubit that the error occurs on.\n",
    "\n",
    "    Returns:\n",
    "        (list(float)): The expectation value of the Pauli Z operator on every qubit.\n",
    "    \"\"\"\n",
    "    qml.QubitStateVector(np.array(state), wires=0)\n",
    "        # Put your code here #\n",
    "    for i in dev.wires[::3][1:]:\n",
    "        qml.CNOT(wires=[0,i])\n",
    "    for i in dev.wires[::3]:\n",
    "        qml.Hadamard(wires=i)\n",
    "        qml.CNOT(wires=[i,i+1])\n",
    "        qml.CNOT(wires=[i,i+2])\n",
    "        \n",
    "    error(error_key, qubit)\n",
    "    \n",
    "    for i in dev.wires[::3]:\n",
    "        qml.CNOT(wires=[i,i+1])\n",
    "        qml.CNOT(wires=[i,i+2])\n",
    "        qml.Toffoli(wires=[i+2,i+1,i])\n",
    "        qml.Hadamard(wires=i)\n",
    "    for i in dev.wires[::3][1:]:\n",
    "        qml.CNOT(wires=[0,i])\n",
    "    qml.MultiControlledX(wires=[*dev.wires[::3][1:], 0])\n",
    "\n",
    "    return [qml.expval(qml.PauliZ(i)) for i in dev.wires]"
   ]
  },
  {
   "cell_type": "code",
   "execution_count": 4,
   "metadata": {},
   "outputs": [
    {
     "data": {
      "text/plain": [
       "[tensor(-1., requires_grad=True),\n",
       " tensor(1., requires_grad=True),\n",
       " tensor(1., requires_grad=True),\n",
       " tensor(1., requires_grad=True),\n",
       " tensor(-1., requires_grad=True),\n",
       " tensor(-1., requires_grad=True),\n",
       " tensor(1., requires_grad=True),\n",
       " tensor(1., requires_grad=True),\n",
       " tensor(1., requires_grad=True)]"
      ]
     },
     "execution_count": 4,
     "metadata": {},
     "output_type": "execute_result"
    }
   ],
   "source": [
    "shor([0, 1], 0, 3)"
   ]
  },
  {
   "cell_type": "code",
   "execution_count": null,
   "metadata": {},
   "outputs": [],
   "source": []
  }
 ],
 "metadata": {
  "kernelspec": {
   "display_name": "Python 3",
   "language": "python",
   "name": "python3"
  },
  "language_info": {
   "codemirror_mode": {
    "name": "ipython",
    "version": 3
   },
   "file_extension": ".py",
   "mimetype": "text/x-python",
   "name": "python",
   "nbconvert_exporter": "python",
   "pygments_lexer": "ipython3",
   "version": "3.11.9"
  }
 },
 "nbformat": 4,
 "nbformat_minor": 2
}
