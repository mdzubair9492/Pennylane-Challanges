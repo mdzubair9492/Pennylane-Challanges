{
 "cells": [
  {
   "cell_type": "markdown",
   "metadata": {},
   "source": [
    "# Important Resources:"
   ]
  },
  {
   "cell_type": "markdown",
   "metadata": {},
   "source": [
    "<a href=\"https://pennylane.ai/qml/demos/tutorial_quantum_chemistry/\"> Building Molecular Hamiltonians </a>\n",
    "\n",
    "<a href=\"https://pennylane.ai/qml/demos/tutorial_vqe/\"> A brief overview of VQE </a>\n",
    "\n",
    "<a href=\"https://www.youtube.com/watch?v=4Xnxa6tzPeA\"> Variational Quantum Eigensolver </a>\n",
    "\n",
    "<a href=\"https://docs.pennylane.ai/en/stable/introduction/chemistry.html\"> Quantumm Chemistry Documentation </a>"
   ]
  },
  {
   "cell_type": "code",
   "execution_count": 1,
   "metadata": {},
   "outputs": [],
   "source": [
    "import pennylane as qml\n",
    "import pennylane.numpy as np"
   ]
  },
  {
   "cell_type": "code",
   "execution_count": 3,
   "metadata": {},
   "outputs": [],
   "source": [
    "def hydrogen_hamiltonian(coordinates, charge):\n",
    "    \"\"\"Calculates the qubit Hamiltonian of the hydrogen molecule.\n",
    "    \n",
    "    Args:\n",
    "        coordinates (list(float)): Cartesian coordinates of each hydrogen molecule.\n",
    "        charge (int): The electric charge given to the hydrogen molecule.\n",
    "\n",
    "    Returns:\n",
    "        (qml.Hamiltonian): A PennyLane Hamiltonian.\n",
    "    \"\"\"\n",
    "    return qml.qchem.molecular_hamiltonian(\n",
    "        [\"H\", \"H\"], coordinates, charge, basis=\"STO-3G\"\n",
    "    )[0]\n",
    "\n",
    "def num_electrons(charge):\n",
    "    \"\"\"The total number of electrons in the hydrogen molecule.\n",
    "    \n",
    "    Args:\n",
    "        charge (int): The electric charge given to the hydrogen molecule.\n",
    "\n",
    "    Returns: \n",
    "        (int): The number of electrons.\n",
    "    \"\"\"\n",
    "        \n",
    "    return 2 - charge"
   ]
  },
  {
   "cell_type": "code",
   "execution_count": 4,
   "metadata": {},
   "outputs": [],
   "source": [
    "def hf(electrons, num_qubits):\n",
    "    \"\"\"Calculates the Hartree-Fock state of the hydrogen molecule.\n",
    "    \n",
    "    Args:\n",
    "        electrons (int): The number of electrons in the hydrogen molecule.\n",
    "        num_qubits (int): The number of qubits needed to represent the hydrogen molecule Hamiltonian.\n",
    "\n",
    "    Returns:\n",
    "        (numpy.tensor): The HF state.\n",
    "    \"\"\"\n",
    "        # Put your solution here #\n",
    "    return qml.qchem.hf_state(electrons, num_qubits)"
   ]
  },
  {
   "cell_type": "code",
   "execution_count": 5,
   "metadata": {},
   "outputs": [],
   "source": [
    "def run_VQE(coordinates, charge):\n",
    "    \"\"\"Performs a VQE routine for the given hydrogen molecule.\n",
    "\n",
    "    Args:\n",
    "        coordinates (list(float)): Cartesian coordinates of each hydrogen molecule.\n",
    "        charge (int): The electric charge given to the hydrogen molecule.:\n",
    "\n",
    "    Returns:\n",
    "        (float): The expectation value of the hydrogen Hamiltonian.\n",
    "    \"\"\"\n",
    "\n",
    "    hamiltonian = hydrogen_hamiltonian(np.array(coordinates), charge)\n",
    "\n",
    "    electrons = num_electrons(charge)\n",
    "    num_qubits = len(hamiltonian.wires)\n",
    "\n",
    "    hf_state = hf(electrons, num_qubits)\n",
    "    # singles and doubles are used to make the AllSinglesDoubles template\n",
    "    singles, doubles = qml.qchem.excitations(electrons, num_qubits)\n",
    "\n",
    "    dev = qml.device(\"default.qubit\", wires=num_qubits)\n",
    "\n",
    "    @qml.qnode(dev)\n",
    "    def cost(weights):\n",
    "        \"\"\"A circuit with tunable parameters/weights that measures the expectation value of the hydrogen Hamiltonian.\n",
    "        \n",
    "        Args:\n",
    "            weights (numpy.array): An array of tunable parameters.\n",
    "\n",
    "        Returns:\n",
    "            (float): The expectation value of the hydrogen Hamiltonian.\n",
    "        \"\"\"\n",
    "                # Put your solution here #\n",
    "        qml.templates.AllSinglesDoubles(weights, dev.wires, hf_state, \n",
    "                                        singles, doubles)\n",
    "        return qml.expval(hamiltonian)\n",
    "        np.random.seed = 1234\n",
    "    weights = np.random.normal(\n",
    "        0, np.pi, len(singles) + len(doubles), requires_grad=True\n",
    "    )\n",
    "    opt = qml.AdamOptimizer(0.5)\n",
    "\n",
    "    for _ in range(200):\n",
    "        weights = opt.step(cost, weights)\n",
    "\n",
    "    return cost(weights)"
   ]
  },
  {
   "cell_type": "code",
   "execution_count": 7,
   "metadata": {},
   "outputs": [
    {
     "name": "stdout",
     "output_type": "stream",
     "text": [
      "-0.5316836600593313\n"
     ]
    }
   ],
   "source": [
    "print(run_VQE([0.0, 0.0, -0.8, 0.0, 0.0, 0.8], -1))"
   ]
  },
  {
   "cell_type": "code",
   "execution_count": null,
   "metadata": {},
   "outputs": [],
   "source": []
  }
 ],
 "metadata": {
  "kernelspec": {
   "display_name": "Python 3",
   "language": "python",
   "name": "python3"
  },
  "language_info": {
   "codemirror_mode": {
    "name": "ipython",
    "version": 3
   },
   "file_extension": ".py",
   "mimetype": "text/x-python",
   "name": "python",
   "nbconvert_exporter": "python",
   "pygments_lexer": "ipython3",
   "version": "3.11.9"
  }
 },
 "nbformat": 4,
 "nbformat_minor": 2
}
